{
 "cells": [
  {
   "cell_type": "markdown",
   "metadata": {},
   "source": [
    "# Consignes\n",
    "\n",
    "Intégrer le fichier USvideos.csv qui représente un ensemble de 8000 vidéos Youtube. \n",
    "\n",
    "Merger le fichier US_category_id.json pour récupérer le nom des catégories. Il conviendra de bien spécifier l'ID du document.\n",
    "\n",
    "\n",
    "# Questions \n",
    "- 1) Récupérer toutes les vidéos de la chaîne Apple.\n",
    "- 2) Compter le nombre de catégories différentes\n",
    "- 3) Si vous ne l'avez pas déjà fait, découper les tags en listes et mettre à jour les tags de chacun des documents avec une requête update.\n",
    "- 4) Récupérer les vidéos les plus vues.\n",
    "- 5) Compter le nombre moyen de vues en fonction de la catégorie.\n",
    "- 6) Récupérer les chaines Youtube avec la plus grande moyenne de likes."
   ]
  },
  {
   "cell_type": "code",
   "execution_count": 1,
   "metadata": {},
   "outputs": [],
   "source": [
    "import pandas as pd\n",
    "import pymongo"
   ]
  },
  {
   "cell_type": "code",
   "execution_count": 2,
   "metadata": {},
   "outputs": [],
   "source": [
    "client = pymongo.MongoClient(\"mongo\")\n",
    "database = client['exercices']\n",
    "collection = database['youtube']"
   ]
  },
  {
   "cell_type": "code",
   "execution_count": 3,
   "metadata": {},
   "outputs": [
    {
     "data": {
      "text/html": [
       "<div>\n",
       "<style scoped>\n",
       "    .dataframe tbody tr th:only-of-type {\n",
       "        vertical-align: middle;\n",
       "    }\n",
       "\n",
       "    .dataframe tbody tr th {\n",
       "        vertical-align: top;\n",
       "    }\n",
       "\n",
       "    .dataframe thead th {\n",
       "        text-align: right;\n",
       "    }\n",
       "</style>\n",
       "<table border=\"1\" class=\"dataframe\">\n",
       "  <thead>\n",
       "    <tr style=\"text-align: right;\">\n",
       "      <th></th>\n",
       "      <th>video_id</th>\n",
       "      <th>title</th>\n",
       "      <th>channel_title</th>\n",
       "      <th>category_id</th>\n",
       "      <th>tags</th>\n",
       "      <th>views</th>\n",
       "      <th>likes</th>\n",
       "      <th>dislikes</th>\n",
       "      <th>comment_total</th>\n",
       "      <th>thumbnail_link</th>\n",
       "      <th>date</th>\n",
       "    </tr>\n",
       "  </thead>\n",
       "  <tbody>\n",
       "    <tr>\n",
       "      <th>0</th>\n",
       "      <td>XpVt6Z1Gjjo</td>\n",
       "      <td>1 YEAR OF VLOGGING -- HOW LOGAN PAUL CHANGED Y...</td>\n",
       "      <td>Logan Paul Vlogs</td>\n",
       "      <td>24</td>\n",
       "      <td>logan paul vlog|logan paul|logan|paul|olympics...</td>\n",
       "      <td>4394029</td>\n",
       "      <td>320053</td>\n",
       "      <td>5931</td>\n",
       "      <td>46245</td>\n",
       "      <td>https://i.ytimg.com/vi/XpVt6Z1Gjjo/default.jpg</td>\n",
       "      <td>13.09</td>\n",
       "    </tr>\n",
       "    <tr>\n",
       "      <th>1</th>\n",
       "      <td>K4wEI5zhHB0</td>\n",
       "      <td>iPhone X — Introducing iPhone X — Apple</td>\n",
       "      <td>Apple</td>\n",
       "      <td>28</td>\n",
       "      <td>Apple|iPhone 10|iPhone Ten|iPhone|Portrait Lig...</td>\n",
       "      <td>7860119</td>\n",
       "      <td>185853</td>\n",
       "      <td>26679</td>\n",
       "      <td>0</td>\n",
       "      <td>https://i.ytimg.com/vi/K4wEI5zhHB0/default.jpg</td>\n",
       "      <td>13.09</td>\n",
       "    </tr>\n",
       "  </tbody>\n",
       "</table>\n",
       "</div>"
      ],
      "text/plain": [
       "      video_id                                              title  \\\n",
       "0  XpVt6Z1Gjjo  1 YEAR OF VLOGGING -- HOW LOGAN PAUL CHANGED Y...   \n",
       "1  K4wEI5zhHB0            iPhone X — Introducing iPhone X — Apple   \n",
       "\n",
       "      channel_title  category_id  \\\n",
       "0  Logan Paul Vlogs           24   \n",
       "1             Apple           28   \n",
       "\n",
       "                                                tags    views   likes  \\\n",
       "0  logan paul vlog|logan paul|logan|paul|olympics...  4394029  320053   \n",
       "1  Apple|iPhone 10|iPhone Ten|iPhone|Portrait Lig...  7860119  185853   \n",
       "\n",
       "   dislikes  comment_total                                  thumbnail_link  \\\n",
       "0      5931          46245  https://i.ytimg.com/vi/XpVt6Z1Gjjo/default.jpg   \n",
       "1     26679              0  https://i.ytimg.com/vi/K4wEI5zhHB0/default.jpg   \n",
       "\n",
       "    date  \n",
       "0  13.09  \n",
       "1  13.09  "
      ]
     },
     "execution_count": 3,
     "metadata": {},
     "output_type": "execute_result"
    }
   ],
   "source": [
    "df_youtube = pd.read_csv(\"./data/USvideos.csv\")\n",
    "df_youtube.head(2)"
   ]
  },
  {
   "cell_type": "markdown",
   "metadata": {},
   "source": [
    "## Question 0"
   ]
  },
  {
   "cell_type": "markdown",
   "metadata": {},
   "source": [
    "### Netoyer les données"
   ]
  },
  {
   "cell_type": "code",
   "execution_count": 4,
   "metadata": {},
   "outputs": [
    {
     "data": {
      "text/plain": [
       "(7992, 11)"
      ]
     },
     "execution_count": 4,
     "metadata": {},
     "output_type": "execute_result"
    }
   ],
   "source": [
    "df_youtube.shape"
   ]
  },
  {
   "cell_type": "code",
   "execution_count": 5,
   "metadata": {},
   "outputs": [
    {
     "data": {
      "text/plain": [
       "(7992, 11)"
      ]
     },
     "execution_count": 5,
     "metadata": {},
     "output_type": "execute_result"
    }
   ],
   "source": [
    "df_youtube = df_youtube.dropna()\n",
    "df_youtube = df_youtube.drop_duplicates()\n",
    "df_youtube.shape"
   ]
  },
  {
   "cell_type": "markdown",
   "metadata": {
    "slideshow": {
     "slide_type": "slide"
    }
   },
   "source": [
    "### Importer les données"
   ]
  },
  {
   "cell_type": "code",
   "execution_count": 6,
   "metadata": {},
   "outputs": [
    {
     "data": {
      "text/plain": [
       "<pymongo.results.DeleteResult at 0x7f51369c4340>"
      ]
     },
     "execution_count": 6,
     "metadata": {},
     "output_type": "execute_result"
    }
   ],
   "source": [
    "collection.delete_many({})"
   ]
  },
  {
   "cell_type": "code",
   "execution_count": 7,
   "metadata": {},
   "outputs": [
    {
     "data": {
      "text/plain": [
       "<pymongo.results.InsertManyResult at 0x7f51366c2340>"
      ]
     },
     "execution_count": 7,
     "metadata": {},
     "output_type": "execute_result"
    }
   ],
   "source": [
    "collection.insert_many(df_youtube.to_dict(orient='records'))"
   ]
  },
  {
   "cell_type": "markdown",
   "metadata": {},
   "source": [
    "## Question 1  "
   ]
  },
  {
   "cell_type": "code",
   "execution_count": 9,
   "metadata": {},
   "outputs": [
    {
     "name": "stdout",
     "output_type": "stream",
     "text": [
      "Les vidéos de la chaîne Apple: \n"
     ]
    },
    {
     "data": {
      "text/plain": [
       "[{'_id': ObjectId('61f080cdb96838229a98722d'),\n",
       "  'video_id': 'K4wEI5zhHB0',\n",
       "  'title': 'iPhone X — Introducing iPhone X — Apple',\n",
       "  'channel_title': 'Apple',\n",
       "  'category_id': 28,\n",
       "  'tags': 'Apple|iPhone 10|iPhone Ten|iPhone|Portrait Lighting|A11 Bionic|augmented reality|emoji|animoji|Face ID|Apple Pay|camera|smartphone',\n",
       "  'views': 7860119,\n",
       "  'likes': 185853,\n",
       "  'dislikes': 26679,\n",
       "  'comment_total': 0,\n",
       "  'thumbnail_link': 'https://i.ytimg.com/vi/K4wEI5zhHB0/default.jpg',\n",
       "  'date': 13.09},\n",
       " {'_id': ObjectId('61f080cdb96838229a9872f7'),\n",
       "  'video_id': 'K4wEI5zhHB0',\n",
       "  'title': 'iPhone X — Introducing iPhone X — Apple',\n",
       "  'channel_title': 'Apple',\n",
       "  'category_id': 28,\n",
       "  'tags': 'Apple|iPhone 10|iPhone Ten|iPhone|Portrait Lighting|A11 Bionic|augmented reality|emoji|animoji|Face ID|Apple Pay|camera|smartphone',\n",
       "  'views': 12200526,\n",
       "  'likes': 258842,\n",
       "  'dislikes': 44339,\n",
       "  'comment_total': 0,\n",
       "  'thumbnail_link': 'https://i.ytimg.com/vi/K4wEI5zhHB0/default.jpg',\n",
       "  'date': 14.09},\n",
       " {'_id': ObjectId('61f080cdb96838229a9873cf'),\n",
       "  'video_id': 'K4wEI5zhHB0',\n",
       "  'title': 'iPhone X — Introducing iPhone X — Apple',\n",
       "  'channel_title': 'Apple',\n",
       "  'category_id': 28,\n",
       "  'tags': 'Apple|iPhone 10|iPhone Ten|iPhone|Portrait Lighting|A11 Bionic|augmented reality|emoji|animoji|Face ID|Apple Pay|camera|smartphone',\n",
       "  'views': 15731493,\n",
       "  'likes': 321403,\n",
       "  'dislikes': 57528,\n",
       "  'comment_total': 0,\n",
       "  'thumbnail_link': 'https://i.ytimg.com/vi/K4wEI5zhHB0/default.jpg',\n",
       "  'date': 15.09},\n",
       " {'_id': ObjectId('61f080cdb96838229a9874ce'),\n",
       "  'video_id': 'K4wEI5zhHB0',\n",
       "  'title': 'iPhone X — Introducing iPhone X — Apple',\n",
       "  'channel_title': 'Apple',\n",
       "  'category_id': 28,\n",
       "  'tags': 'Apple|iPhone 10|iPhone Ten|iPhone|Portrait Lighting|A11 Bionic|augmented reality|emoji|animoji|Face ID|Apple Pay|camera|smartphone',\n",
       "  'views': 18082737,\n",
       "  'likes': 359392,\n",
       "  'dislikes': 64933,\n",
       "  'comment_total': 0,\n",
       "  'thumbnail_link': 'https://i.ytimg.com/vi/K4wEI5zhHB0/default.jpg',\n",
       "  'date': 16.09},\n",
       " {'_id': ObjectId('61f080cdb96838229a9875b5'),\n",
       "  'video_id': 'K4wEI5zhHB0',\n",
       "  'title': 'iPhone X — Introducing iPhone X — Apple',\n",
       "  'channel_title': 'Apple',\n",
       "  'category_id': 28,\n",
       "  'tags': 'Apple|iPhone 10|iPhone Ten|iPhone|Portrait Lighting|A11 Bionic|augmented reality|emoji|animoji|Face ID|Apple Pay|camera|smartphone',\n",
       "  'views': 19707391,\n",
       "  'likes': 381919,\n",
       "  'dislikes': 69465,\n",
       "  'comment_total': 0,\n",
       "  'thumbnail_link': 'https://i.ytimg.com/vi/K4wEI5zhHB0/default.jpg',\n",
       "  'date': 17.09},\n",
       " {'_id': ObjectId('61f080cdb96838229a987651'),\n",
       "  'video_id': 'A9k88sMyiJM',\n",
       "  'title': 'Apple Watch Series 3 + Apple Music — Roll — Apple',\n",
       "  'channel_title': 'Apple',\n",
       "  'category_id': 28,\n",
       "  'tags': 'Apple|airpods|apple watch|apple watch series 3|apple watch cellular|apple watch 4g|apple music|40 million songs on your wrist|apple skateboard ad|apple train station ad|apple roll ad|apple watch skateboard ad|apple watch train station ad|apple watch roll ad|airpods skateboard ad|airpods train station ad|airpods roll ad|apple music skateboard ad|apple music train station ad|apple music roll ad|misbehaving',\n",
       "  'views': 782543,\n",
       "  'likes': 14647,\n",
       "  'dislikes': 1489,\n",
       "  'comment_total': 0,\n",
       "  'thumbnail_link': 'https://i.ytimg.com/vi/A9k88sMyiJM/default.jpg',\n",
       "  'date': 18.09},\n",
       " {'_id': ObjectId('61f080cdb96838229a98773e'),\n",
       "  'video_id': 'A9k88sMyiJM',\n",
       "  'title': 'Apple Watch Series 3 + Apple Music — Roll — Apple',\n",
       "  'channel_title': 'Apple',\n",
       "  'category_id': 28,\n",
       "  'tags': 'Apple|airpods|apple watch|apple watch series 3|apple watch cellular|apple watch 4g|apple music|40 million songs on your wrist|apple skateboard ad|apple train station ad|apple roll ad|apple watch skateboard ad|apple watch train station ad|apple watch roll ad|airpods skateboard ad|airpods train station ad|airpods roll ad|apple music skateboard ad|apple music train station ad|apple music roll ad|misbehaving',\n",
       "  'views': 3987580,\n",
       "  'likes': 26021,\n",
       "  'dislikes': 8719,\n",
       "  'comment_total': 0,\n",
       "  'thumbnail_link': 'https://i.ytimg.com/vi/A9k88sMyiJM/default.jpg',\n",
       "  'date': 19.09},\n",
       " {'_id': ObjectId('61f080cdb96838229a98782e'),\n",
       "  'video_id': 'A9k88sMyiJM',\n",
       "  'title': 'Apple Watch Series 3 + Apple Music — Roll — Apple',\n",
       "  'channel_title': 'Apple',\n",
       "  'category_id': 28,\n",
       "  'tags': 'Apple|airpods|apple watch|apple watch series 3|apple watch cellular|apple watch 4g|apple music|40 million songs on your wrist|apple skateboard ad|apple train station ad|apple roll ad|apple watch skateboard ad|apple watch train station ad|apple watch roll ad|airpods skateboard ad|airpods train station ad|airpods roll ad|apple music skateboard ad|apple music train station ad|apple music roll ad|misbehaving',\n",
       "  'views': 4112187,\n",
       "  'likes': 26609,\n",
       "  'dislikes': 8982,\n",
       "  'comment_total': 0,\n",
       "  'thumbnail_link': 'https://i.ytimg.com/vi/A9k88sMyiJM/default.jpg',\n",
       "  'date': 20.09},\n",
       " {'_id': ObjectId('61f080cdb96838229a9881f8'),\n",
       "  'video_id': 'REZl-ANYKKY',\n",
       "  'title': 'iPhone 8 Plus — Portraits of Her  — Apple',\n",
       "  'channel_title': 'Apple',\n",
       "  'category_id': 28,\n",
       "  'tags': 'Apple|new|iPhone|iPhone 8|iPhone 8 Plus|iOS 11|4.7-inch|5.5-inch|Portrait Lighting|Shot on iPhone|camera|iphonography|smartphone|This Strange Effect|The Shacks',\n",
       "  'views': 117564,\n",
       "  'likes': 1240,\n",
       "  'dislikes': 459,\n",
       "  'comment_total': 0,\n",
       "  'thumbnail_link': 'https://i.ytimg.com/vi/REZl-ANYKKY/default.jpg',\n",
       "  'date': 3.1},\n",
       " {'_id': ObjectId('61f080cdb96838229a9882e9'),\n",
       "  'video_id': 'REZl-ANYKKY',\n",
       "  'title': 'iPhone 8 Plus — Portraits of Her  — Apple',\n",
       "  'channel_title': 'Apple',\n",
       "  'category_id': 28,\n",
       "  'tags': 'Apple|new|iPhone|iPhone 8|iPhone 8 Plus|iOS 11|4.7-inch|5.5-inch|Portrait Lighting|Shot on iPhone|camera|iphonography|smartphone|This Strange Effect|The Shacks',\n",
       "  'views': 163024,\n",
       "  'likes': 1538,\n",
       "  'dislikes': 539,\n",
       "  'comment_total': 0,\n",
       "  'thumbnail_link': 'https://i.ytimg.com/vi/REZl-ANYKKY/default.jpg',\n",
       "  'date': 4.1},\n",
       " {'_id': ObjectId('61f080cdb96838229a9883e7'),\n",
       "  'video_id': 'REZl-ANYKKY',\n",
       "  'title': 'iPhone 8 Plus — Portraits of Her  — Apple',\n",
       "  'channel_title': 'Apple',\n",
       "  'category_id': 28,\n",
       "  'tags': 'Apple|new|iPhone|iPhone 8|iPhone 8 Plus|iOS 11|4.7-inch|5.5-inch|Portrait Lighting|Shot on iPhone|camera|iphonography|smartphone|This Strange Effect|The Shacks',\n",
       "  'views': 183325,\n",
       "  'likes': 1700,\n",
       "  'dislikes': 570,\n",
       "  'comment_total': 0,\n",
       "  'thumbnail_link': 'https://i.ytimg.com/vi/REZl-ANYKKY/default.jpg',\n",
       "  'date': 5.1}]"
      ]
     },
     "execution_count": 9,
     "metadata": {},
     "output_type": "execute_result"
    }
   ],
   "source": [
    "# Récupérer toutes les vidéos de la chaîne Apple\n",
    "\n",
    "Apple_vid = collection.find({\"channel_title\":\"Apple\"})\n",
    "print(\"Les vidéos de la chaîne Apple: \")\n",
    "list(Apple_vid)\n"
   ]
  },
  {
   "cell_type": "markdown",
   "metadata": {},
   "source": [
    "## Question 2"
   ]
  },
  {
   "cell_type": "code",
   "execution_count": 15,
   "metadata": {},
   "outputs": [
    {
     "name": "stdout",
     "output_type": "stream",
     "text": [
      "nombre de catégories différentes : 16\n"
     ]
    }
   ],
   "source": [
    "# Compter le nombre de catégories différentes\n",
    "\n",
    "by_category = collection.aggregate([{\"$group\" : {\"_id\" : \"$category_id\"}}])\n",
    "print(\"nombre de catégories différentes :\",len(list(by_category)))"
   ]
  },
  {
   "cell_type": "markdown",
   "metadata": {},
   "source": [
    "## Question 3"
   ]
  },
  {
   "cell_type": "markdown",
   "metadata": {},
   "source": [
    "Découpage les tags en listes et mettre à jour les tags de chacun des documents avec une requête update."
   ]
  },
  {
   "cell_type": "code",
   "execution_count": 45,
   "metadata": {},
   "outputs": [],
   "source": [
    "tagss = collection.find({},{\"tags\":1,\"_id\":1})\n",
    "for _id, tags in tagss:\n",
    "    collection.update_one( {\"_id\":_id}, {\"$set\":{\"tags\":tags}})\n"
   ]
  },
  {
   "cell_type": "code",
   "execution_count": 46,
   "metadata": {},
   "outputs": [
    {
     "data": {
      "text/plain": [
       "{'_id': ObjectId('61f080cdb96838229a98722c'),\n",
       " 'video_id': 'XpVt6Z1Gjjo',\n",
       " 'title': '1 YEAR OF VLOGGING -- HOW LOGAN PAUL CHANGED YOUTUBE FOREVER!',\n",
       " 'channel_title': 'Logan Paul Vlogs',\n",
       " 'category_id': 24,\n",
       " 'tags': ['logan paul vlog',\n",
       "  'logan paul',\n",
       "  'logan',\n",
       "  'paul',\n",
       "  'olympics',\n",
       "  'logan paul youtube',\n",
       "  'vlog',\n",
       "  'daily',\n",
       "  'comedy',\n",
       "  'hollywood',\n",
       "  'parrot',\n",
       "  'maverick',\n",
       "  'bird',\n",
       "  'maverick clothes',\n",
       "  'diamond play button',\n",
       "  'logan paul diamond play button',\n",
       "  '10M subscribers',\n",
       "  'logan paul 1 year vlogging',\n",
       "  '1 year vlog',\n",
       "  'dwarf mamba play button',\n",
       "  'logan paul history',\n",
       "  'youtube history',\n",
       "  '10M',\n",
       "  '10M plaque',\n",
       "  'youtube button',\n",
       "  'diamond button',\n",
       "  'logang',\n",
       "  'logang 4 life'],\n",
       " 'views': 4394029,\n",
       " 'likes': 320053,\n",
       " 'dislikes': 5931,\n",
       " 'comment_total': 46245,\n",
       " 'thumbnail_link': 'https://i.ytimg.com/vi/XpVt6Z1Gjjo/default.jpg',\n",
       " 'date': 13.09}"
      ]
     },
     "execution_count": 46,
     "metadata": {},
     "output_type": "execute_result"
    }
   ],
   "source": [
    "#test\n",
    "collection.find_one()"
   ]
  },
  {
   "cell_type": "markdown",
   "metadata": {},
   "source": [
    "## Question 4"
   ]
  },
  {
   "cell_type": "code",
   "execution_count": 21,
   "metadata": {},
   "outputs": [
    {
     "data": {
      "text/plain": [
       "[{'_id': ObjectId('61f080cdb96838229a98799f'),\n",
       "  'video_id': 'MBdVXkSdhwU',\n",
       "  'title': \"BTS (방탄소년단) 'DNA' Official MV\",\n",
       "  'channel_title': 'ibighit',\n",
       "  'category_id': 10,\n",
       "  'tags': 'BIGHIT|빅히트|방탄소년단|BTS|BANGTAN|방탄',\n",
       "  'views': 41500672,\n",
       "  'likes': 2010366,\n",
       "  'dislikes': 78076,\n",
       "  'comment_total': 736179,\n",
       "  'thumbnail_link': 'https://i.ytimg.com/vi/MBdVXkSdhwU/default.jpg',\n",
       "  'date': 22.09},\n",
       " {'_id': ObjectId('61f080cdb96838229a9878ca'),\n",
       "  'video_id': 'MBdVXkSdhwU',\n",
       "  'title': \"BTS (방탄소년단) 'DNA' Official MV\",\n",
       "  'channel_title': 'ibighit',\n",
       "  'category_id': 10,\n",
       "  'tags': 'BIGHIT|빅히트|방탄소년단|BTS|BANGTAN|방탄',\n",
       "  'views': 38013692,\n",
       "  'likes': 1950475,\n",
       "  'dislikes': 75294,\n",
       "  'comment_total': 713293,\n",
       "  'thumbnail_link': 'https://i.ytimg.com/vi/MBdVXkSdhwU/default.jpg',\n",
       "  'date': 21.09},\n",
       " {'_id': ObjectId('61f080cdb96838229a9872dd'),\n",
       "  'video_id': 'tt2k8PGm-TI',\n",
       "  'title': 'ZAYN - Dusk Till Dawn ft. Sia',\n",
       "  'channel_title': 'ZaynVEVO',\n",
       "  'category_id': 10,\n",
       "  'tags': 'Dusk Till Dawn|Pop|RCA Records Label|ZAYN feat. Sia',\n",
       "  'views': 36323498,\n",
       "  'likes': 1431683,\n",
       "  'dislikes': 28049,\n",
       "  'comment_total': 100661,\n",
       "  'thumbnail_link': 'https://i.ytimg.com/vi/tt2k8PGm-TI/default.jpg',\n",
       "  'date': 13.09},\n",
       " {'_id': ObjectId('61f080cdb96838229a988e0b'),\n",
       "  'video_id': 'LunHybOKIjU',\n",
       "  'title': 'Eminem Rips Donald Trump In BET Hip Hop Awards Freestyle Cypher',\n",
       "  'channel_title': 'BETNetworks',\n",
       "  'category_id': 24,\n",
       "  'tags': 'BET|BET Networks|BET Music|Black Entertainment Television|eminem|freestyle|full|hip hop awards|hip hop awards 2017|bet hip hop awards|donald trump|potus|full freestyle|EMINEM TRUMP|TRUMP TWITTER|trump tweet|trump nfl|eminem bet cypher|bet cypher|eminem freestyle|8 mile|eminem new album|trump diss|eminem trump diss',\n",
       "  'views': 33191594,\n",
       "  'likes': 982842,\n",
       "  'dislikes': 184310,\n",
       "  'comment_total': 337603,\n",
       "  'thumbnail_link': 'https://i.ytimg.com/vi/LunHybOKIjU/default.jpg',\n",
       "  'date': 18.1},\n",
       " {'_id': ObjectId('61f080cdb96838229a988d31'),\n",
       "  'video_id': 'LunHybOKIjU',\n",
       "  'title': 'Eminem Rips Donald Trump In BET Hip Hop Awards Freestyle Cypher',\n",
       "  'channel_title': 'BETNetworks',\n",
       "  'category_id': 24,\n",
       "  'tags': 'BET|BET Networks|BET Music|Black Entertainment Television|eminem|freestyle|full|hip hop awards|hip hop awards 2017|bet hip hop awards|donald trump|potus|full freestyle|EMINEM TRUMP|TRUMP TWITTER|trump tweet|trump nfl|eminem bet cypher|bet cypher|eminem freestyle|8 mile|eminem new album|trump diss|eminem trump diss',\n",
       "  'views': 32512343,\n",
       "  'likes': 968719,\n",
       "  'dislikes': 180427,\n",
       "  'comment_total': 332396,\n",
       "  'thumbnail_link': 'https://i.ytimg.com/vi/LunHybOKIjU/default.jpg',\n",
       "  'date': 17.1}]"
      ]
     },
     "execution_count": 21,
     "metadata": {},
     "output_type": "execute_result"
    }
   ],
   "source": [
    "#Récupérer les vidéos les plus vues\n",
    "\n",
    "top_views = collection.find({}).sort(\"views\", -1)\n",
    "#on verra les top 5 viewed videos \n",
    "top_views = top_views[:5]\n",
    "list(top_views)"
   ]
  },
  {
   "cell_type": "markdown",
   "metadata": {},
   "source": [
    "## Question 5"
   ]
  },
  {
   "cell_type": "code",
   "execution_count": 22,
   "metadata": {},
   "outputs": [
    {
     "data": {
      "text/plain": [
       "[{'_id': 22, 'moyenne de vues par catégorie': 971532.7573696146},\n",
       " {'_id': 2, 'moyenne de vues par catégorie': 607693.8706896552},\n",
       " {'_id': 23, 'moyenne de vues par catégorie': 1240073.294039735},\n",
       " {'_id': 17, 'moyenne de vues par catégorie': 728434.3243902439},\n",
       " {'_id': 43, 'moyenne de vues par catégorie': 8492.5},\n",
       " {'_id': 15, 'moyenne de vues par catégorie': 651404.3879310344},\n",
       " {'_id': 20, 'moyenne de vues par catégorie': 681081.8170731707},\n",
       " {'_id': 1, 'moyenne de vues par catégorie': 1039472.6560846561},\n",
       " {'_id': 24, 'moyenne de vues par catégorie': 1154868.4397251718},\n",
       " {'_id': 19, 'moyenne de vues par catégorie': 464041.0833333333},\n",
       " {'_id': 27, 'moyenne de vues par catégorie': 547582.4700598803},\n",
       " {'_id': 29, 'moyenne de vues par catégorie': 1110334.2142857143},\n",
       " {'_id': 25, 'moyenne de vues par catégorie': 540955.5569823436},\n",
       " {'_id': 28, 'moyenne de vues par catégorie': 924730.548828125},\n",
       " {'_id': 10, 'moyenne de vues par catégorie': 1176553.612},\n",
       " {'_id': 26, 'moyenne de vues par catégorie': 537665.1806674339}]"
      ]
     },
     "execution_count": 22,
     "metadata": {},
     "output_type": "execute_result"
    }
   ],
   "source": [
    "#Compter le nombre moyen de vues en fonction de la catégorie\n",
    "\n",
    "moyen_vues_catg = collection.aggregate([{\"$group\" : {\"_id\" : \"$category_id\", \"moyenne de vues par catégorie\": {\"$avg\" : \"$views\"}}}])\n",
    "list(moyen_vues_catg)"
   ]
  },
  {
   "cell_type": "markdown",
   "metadata": {},
   "source": [
    "## Question 6 "
   ]
  },
  {
   "cell_type": "code",
   "execution_count": 24,
   "metadata": {},
   "outputs": [
    {
     "data": {
      "text/plain": [
       "[{'_id': 'ZaynVEVO', 'moyenne de likes': 1431683.0},\n",
       " {'_id': 'ibighit', 'moyenne de likes': 1371766.25},\n",
       " {'_id': 'melanie martinez', 'moyenne de likes': 911871.5},\n",
       " {'_id': 'BETNetworks', 'moyenne de likes': 769687.625},\n",
       " {'_id': 'jypentertainment', 'moyenne de likes': 758826.6666666666}]"
      ]
     },
     "execution_count": 24,
     "metadata": {},
     "output_type": "execute_result"
    }
   ],
   "source": [
    "#Récupérer les chaines Youtube avec la plus grande moyenne de likes.\n",
    "\n",
    "top_likes = collection.aggregate([{\"$group\" : {\"_id\" : \"$channel_title\", \"moyenne de likes\" : {\"$avg\" : \"$likes\"}}},{\"$sort\":{\"moyenne de likes\":-1}}])\n",
    "#on verra les top 5 liked videos \n",
    "list(top_likes)[:5]"
   ]
  }
 ],
 "metadata": {
  "kernelspec": {
   "display_name": "Python 3 (ipykernel)",
   "language": "python",
   "name": "python3"
  },
  "language_info": {
   "codemirror_mode": {
    "name": "ipython",
    "version": 3
   },
   "file_extension": ".py",
   "mimetype": "text/x-python",
   "name": "python",
   "nbconvert_exporter": "python",
   "pygments_lexer": "ipython3",
   "version": "3.8.12"
  }
 },
 "nbformat": 4,
 "nbformat_minor": 2
}
