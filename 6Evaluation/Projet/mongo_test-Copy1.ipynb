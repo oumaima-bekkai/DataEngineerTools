{
 "cells": [
  {
   "cell_type": "code",
   "execution_count": 1,
   "id": "95d41dff",
   "metadata": {},
   "outputs": [
    {
     "name": "stdout",
     "output_type": "stream",
     "text": [
      "Requirement already satisfied: pymongo in /usr/local/lib/python3.8/site-packages (3.11.0)\n",
      "\u001b[33mWARNING: Running pip as the 'root' user can result in broken permissions and conflicting behaviour with the system package manager. It is recommended to use a virtual environment instead: https://pip.pypa.io/warnings/venv\u001b[0m\n"
     ]
    }
   ],
   "source": [
    "!pip install pymongo"
   ]
  },
  {
   "cell_type": "code",
   "execution_count": 2,
   "id": "18ecd658",
   "metadata": {},
   "outputs": [],
   "source": [
    "import pandas as pd\n",
    "import pymongo"
   ]
  },
  {
   "cell_type": "code",
   "execution_count": 3,
   "id": "d10dc480",
   "metadata": {},
   "outputs": [],
   "source": [
    "from pymongo import MongoClient\n",
    "\n",
    "client = MongoClient(\"mongo\")"
   ]
  },
  {
   "cell_type": "code",
   "execution_count": 4,
   "id": "1fb6e1e4",
   "metadata": {},
   "outputs": [],
   "source": [
    "database = client['tripadvisor']\n",
    "collection = database['restaurants']"
   ]
  },
  {
   "cell_type": "code",
   "execution_count": 6,
   "id": "254ba81f",
   "metadata": {},
   "outputs": [
    {
     "data": {
      "text/html": [
       "<div>\n",
       "<style scoped>\n",
       "    .dataframe tbody tr th:only-of-type {\n",
       "        vertical-align: middle;\n",
       "    }\n",
       "\n",
       "    .dataframe tbody tr th {\n",
       "        vertical-align: top;\n",
       "    }\n",
       "\n",
       "    .dataframe thead th {\n",
       "        text-align: right;\n",
       "    }\n",
       "</style>\n",
       "<table border=\"1\" class=\"dataframe\">\n",
       "  <thead>\n",
       "    <tr style=\"text-align: right;\">\n",
       "      <th></th>\n",
       "      <th>Unnamed: 0</th>\n",
       "      <th>Name</th>\n",
       "      <th>City</th>\n",
       "      <th>Cuisine Style</th>\n",
       "      <th>Ranking</th>\n",
       "      <th>Rating</th>\n",
       "      <th>Price Range</th>\n",
       "      <th>Number of Reviews</th>\n",
       "      <th>Reviews</th>\n",
       "      <th>URL_TA</th>\n",
       "      <th>ID_TA</th>\n",
       "    </tr>\n",
       "  </thead>\n",
       "  <tbody>\n",
       "    <tr>\n",
       "      <th>125522</th>\n",
       "      <td>1662</td>\n",
       "      <td>Konrad Kaffee- &amp; Cocktailbar</td>\n",
       "      <td>Zurich</td>\n",
       "      <td>NaN</td>\n",
       "      <td>NaN</td>\n",
       "      <td>NaN</td>\n",
       "      <td>NaN</td>\n",
       "      <td>NaN</td>\n",
       "      <td>NaN</td>\n",
       "      <td>/Restaurant_Review-g188113-d13273526-Reviews-K...</td>\n",
       "      <td>d13273526</td>\n",
       "    </tr>\n",
       "    <tr>\n",
       "      <th>125523</th>\n",
       "      <td>1663</td>\n",
       "      <td>Blueberry American Bakery</td>\n",
       "      <td>Zurich</td>\n",
       "      <td>['Cafe']</td>\n",
       "      <td>NaN</td>\n",
       "      <td>NaN</td>\n",
       "      <td>NaN</td>\n",
       "      <td>NaN</td>\n",
       "      <td>NaN</td>\n",
       "      <td>/Restaurant_Review-g188113-d13292844-Reviews-B...</td>\n",
       "      <td>d13292844</td>\n",
       "    </tr>\n",
       "    <tr>\n",
       "      <th>125524</th>\n",
       "      <td>1664</td>\n",
       "      <td>Restaurant Bahnhof</td>\n",
       "      <td>Zurich</td>\n",
       "      <td>NaN</td>\n",
       "      <td>NaN</td>\n",
       "      <td>NaN</td>\n",
       "      <td>NaN</td>\n",
       "      <td>NaN</td>\n",
       "      <td>NaN</td>\n",
       "      <td>/Restaurant_Review-g188113-d13296092-Reviews-R...</td>\n",
       "      <td>d13296092</td>\n",
       "    </tr>\n",
       "    <tr>\n",
       "      <th>125525</th>\n",
       "      <td>1665</td>\n",
       "      <td>Yoyo Pizza</td>\n",
       "      <td>Zurich</td>\n",
       "      <td>['Fast Food']</td>\n",
       "      <td>NaN</td>\n",
       "      <td>NaN</td>\n",
       "      <td>NaN</td>\n",
       "      <td>NaN</td>\n",
       "      <td>NaN</td>\n",
       "      <td>/Restaurant_Review-g188113-d13323362-Reviews-Y...</td>\n",
       "      <td>d13323362</td>\n",
       "    </tr>\n",
       "    <tr>\n",
       "      <th>125526</th>\n",
       "      <td>1666</td>\n",
       "      <td>dieci</td>\n",
       "      <td>Zurich</td>\n",
       "      <td>['Italian', 'Pizza', 'Mediterranean', 'Diner']</td>\n",
       "      <td>NaN</td>\n",
       "      <td>NaN</td>\n",
       "      <td>$$ - $$$</td>\n",
       "      <td>NaN</td>\n",
       "      <td>NaN</td>\n",
       "      <td>/Restaurant_Review-g188113-d13349842-Reviews-D...</td>\n",
       "      <td>d13349842</td>\n",
       "    </tr>\n",
       "  </tbody>\n",
       "</table>\n",
       "</div>"
      ],
      "text/plain": [
       "        Unnamed: 0                          Name    City  \\\n",
       "125522        1662  Konrad Kaffee- & Cocktailbar  Zurich   \n",
       "125523        1663     Blueberry American Bakery  Zurich   \n",
       "125524        1664            Restaurant Bahnhof  Zurich   \n",
       "125525        1665                    Yoyo Pizza  Zurich   \n",
       "125526        1666                         dieci  Zurich   \n",
       "\n",
       "                                         Cuisine Style  Ranking  Rating  \\\n",
       "125522                                             NaN      NaN     NaN   \n",
       "125523                                        ['Cafe']      NaN     NaN   \n",
       "125524                                             NaN      NaN     NaN   \n",
       "125525                                   ['Fast Food']      NaN     NaN   \n",
       "125526  ['Italian', 'Pizza', 'Mediterranean', 'Diner']      NaN     NaN   \n",
       "\n",
       "       Price Range  Number of Reviews Reviews  \\\n",
       "125522         NaN                NaN     NaN   \n",
       "125523         NaN                NaN     NaN   \n",
       "125524         NaN                NaN     NaN   \n",
       "125525         NaN                NaN     NaN   \n",
       "125526    $$ - $$$                NaN     NaN   \n",
       "\n",
       "                                                   URL_TA      ID_TA  \n",
       "125522  /Restaurant_Review-g188113-d13273526-Reviews-K...  d13273526  \n",
       "125523  /Restaurant_Review-g188113-d13292844-Reviews-B...  d13292844  \n",
       "125524  /Restaurant_Review-g188113-d13296092-Reviews-R...  d13296092  \n",
       "125525  /Restaurant_Review-g188113-d13323362-Reviews-Y...  d13323362  \n",
       "125526  /Restaurant_Review-g188113-d13349842-Reviews-D...  d13349842  "
      ]
     },
     "execution_count": 6,
     "metadata": {},
     "output_type": "execute_result"
    }
   ],
   "source": [
    "df = pd.read_csv(\"TA_restaurants_curated.csv\")\n",
    "df.tail()"
   ]
  },
  {
   "cell_type": "code",
   "execution_count": 7,
   "id": "87768fe5",
   "metadata": {},
   "outputs": [
    {
     "data": {
      "text/plain": [
       "(125527, 11)"
      ]
     },
     "execution_count": 7,
     "metadata": {},
     "output_type": "execute_result"
    }
   ],
   "source": [
    "df.shape"
   ]
  },
  {
   "cell_type": "markdown",
   "id": "5008e8d6",
   "metadata": {},
   "source": [
    "## Netoyage des données"
   ]
  },
  {
   "cell_type": "code",
   "execution_count": 8,
   "id": "08b11fc8",
   "metadata": {},
   "outputs": [
    {
     "data": {
      "text/plain": [
       "Unnamed: 0             int64\n",
       "Name                  object\n",
       "City                  object\n",
       "Cuisine Style         object\n",
       "Ranking              float64\n",
       "Rating               float64\n",
       "Price Range           object\n",
       "Number of Reviews    float64\n",
       "Reviews               object\n",
       "URL_TA                object\n",
       "ID_TA                 object\n",
       "dtype: object"
      ]
     },
     "execution_count": 8,
     "metadata": {},
     "output_type": "execute_result"
    }
   ],
   "source": [
    "df.dtypes"
   ]
  },
  {
   "cell_type": "code",
   "execution_count": 9,
   "id": "2a885c31",
   "metadata": {},
   "outputs": [
    {
     "data": {
      "text/plain": [
       "(74225, 11)"
      ]
     },
     "execution_count": 9,
     "metadata": {},
     "output_type": "execute_result"
    }
   ],
   "source": [
    "df = df.dropna()\n",
    "df.shape"
   ]
  },
  {
   "cell_type": "code",
   "execution_count": 10,
   "id": "e33de7c9",
   "metadata": {},
   "outputs": [
    {
     "data": {
      "text/plain": [
       "(74225, 11)"
      ]
     },
     "execution_count": 10,
     "metadata": {},
     "output_type": "execute_result"
    }
   ],
   "source": [
    "df = df.drop_duplicates()\n",
    "df.shape"
   ]
  },
  {
   "cell_type": "code",
   "execution_count": 13,
   "id": "3e1fe5de",
   "metadata": {},
   "outputs": [
    {
     "data": {
      "text/html": [
       "<div>\n",
       "<style scoped>\n",
       "    .dataframe tbody tr th:only-of-type {\n",
       "        vertical-align: middle;\n",
       "    }\n",
       "\n",
       "    .dataframe tbody tr th {\n",
       "        vertical-align: top;\n",
       "    }\n",
       "\n",
       "    .dataframe thead th {\n",
       "        text-align: right;\n",
       "    }\n",
       "</style>\n",
       "<table border=\"1\" class=\"dataframe\">\n",
       "  <thead>\n",
       "    <tr style=\"text-align: right;\">\n",
       "      <th></th>\n",
       "      <th>Unnamed: 0</th>\n",
       "      <th>Name</th>\n",
       "      <th>City</th>\n",
       "      <th>Cuisine Style</th>\n",
       "      <th>Ranking</th>\n",
       "      <th>Rating</th>\n",
       "      <th>Price Range</th>\n",
       "      <th>Number of Reviews</th>\n",
       "      <th>Reviews</th>\n",
       "      <th>URL_TA</th>\n",
       "      <th>ID_TA</th>\n",
       "    </tr>\n",
       "  </thead>\n",
       "  <tbody>\n",
       "    <tr>\n",
       "      <th>0</th>\n",
       "      <td>0</td>\n",
       "      <td>Martine of Martine's Table</td>\n",
       "      <td>Amsterdam</td>\n",
       "      <td>['French', 'Dutch', 'European']</td>\n",
       "      <td>1.0</td>\n",
       "      <td>5.0</td>\n",
       "      <td>$$ - $$$</td>\n",
       "      <td>136.0</td>\n",
       "      <td>[['Just like home', 'A Warm Welcome to Wintry ...</td>\n",
       "      <td>/Restaurant_Review-g188590-d11752080-Reviews-M...</td>\n",
       "      <td>d11752080</td>\n",
       "    </tr>\n",
       "    <tr>\n",
       "      <th>1</th>\n",
       "      <td>1</td>\n",
       "      <td>De Silveren Spiegel</td>\n",
       "      <td>Amsterdam</td>\n",
       "      <td>['Dutch', 'European', 'Vegetarian Friendly', '...</td>\n",
       "      <td>2.0</td>\n",
       "      <td>4.5</td>\n",
       "      <td>$$$$</td>\n",
       "      <td>812.0</td>\n",
       "      <td>[['Great food and staff', 'just perfect'], ['0...</td>\n",
       "      <td>/Restaurant_Review-g188590-d693419-Reviews-De_...</td>\n",
       "      <td>d693419</td>\n",
       "    </tr>\n",
       "    <tr>\n",
       "      <th>2</th>\n",
       "      <td>2</td>\n",
       "      <td>La Rive</td>\n",
       "      <td>Amsterdam</td>\n",
       "      <td>['Mediterranean', 'French', 'International', '...</td>\n",
       "      <td>3.0</td>\n",
       "      <td>4.5</td>\n",
       "      <td>$$$$</td>\n",
       "      <td>567.0</td>\n",
       "      <td>[['Satisfaction', 'Delicious old school restau...</td>\n",
       "      <td>/Restaurant_Review-g188590-d696959-Reviews-La_...</td>\n",
       "      <td>d696959</td>\n",
       "    </tr>\n",
       "    <tr>\n",
       "      <th>3</th>\n",
       "      <td>3</td>\n",
       "      <td>Vinkeles</td>\n",
       "      <td>Amsterdam</td>\n",
       "      <td>['French', 'European', 'International', 'Conte...</td>\n",
       "      <td>4.0</td>\n",
       "      <td>5.0</td>\n",
       "      <td>$$$$</td>\n",
       "      <td>564.0</td>\n",
       "      <td>[['True five star dinner', 'A superb evening o...</td>\n",
       "      <td>/Restaurant_Review-g188590-d1239229-Reviews-Vi...</td>\n",
       "      <td>d1239229</td>\n",
       "    </tr>\n",
       "    <tr>\n",
       "      <th>4</th>\n",
       "      <td>4</td>\n",
       "      <td>Librije's Zusje Amsterdam</td>\n",
       "      <td>Amsterdam</td>\n",
       "      <td>['Dutch', 'European', 'International', 'Vegeta...</td>\n",
       "      <td>5.0</td>\n",
       "      <td>4.5</td>\n",
       "      <td>$$$$</td>\n",
       "      <td>316.0</td>\n",
       "      <td>[['Best meal.... EVER', 'super food experience...</td>\n",
       "      <td>/Restaurant_Review-g188590-d6864170-Reviews-Li...</td>\n",
       "      <td>d6864170</td>\n",
       "    </tr>\n",
       "  </tbody>\n",
       "</table>\n",
       "</div>"
      ],
      "text/plain": [
       "   Unnamed: 0                        Name       City  \\\n",
       "0           0  Martine of Martine's Table  Amsterdam   \n",
       "1           1         De Silveren Spiegel  Amsterdam   \n",
       "2           2                     La Rive  Amsterdam   \n",
       "3           3                    Vinkeles  Amsterdam   \n",
       "4           4   Librije's Zusje Amsterdam  Amsterdam   \n",
       "\n",
       "                                       Cuisine Style  Ranking  Rating  \\\n",
       "0                    ['French', 'Dutch', 'European']      1.0     5.0   \n",
       "1  ['Dutch', 'European', 'Vegetarian Friendly', '...      2.0     4.5   \n",
       "2  ['Mediterranean', 'French', 'International', '...      3.0     4.5   \n",
       "3  ['French', 'European', 'International', 'Conte...      4.0     5.0   \n",
       "4  ['Dutch', 'European', 'International', 'Vegeta...      5.0     4.5   \n",
       "\n",
       "  Price Range  Number of Reviews  \\\n",
       "0    $$ - $$$              136.0   \n",
       "1        $$$$              812.0   \n",
       "2        $$$$              567.0   \n",
       "3        $$$$              564.0   \n",
       "4        $$$$              316.0   \n",
       "\n",
       "                                             Reviews  \\\n",
       "0  [['Just like home', 'A Warm Welcome to Wintry ...   \n",
       "1  [['Great food and staff', 'just perfect'], ['0...   \n",
       "2  [['Satisfaction', 'Delicious old school restau...   \n",
       "3  [['True five star dinner', 'A superb evening o...   \n",
       "4  [['Best meal.... EVER', 'super food experience...   \n",
       "\n",
       "                                              URL_TA      ID_TA  \n",
       "0  /Restaurant_Review-g188590-d11752080-Reviews-M...  d11752080  \n",
       "1  /Restaurant_Review-g188590-d693419-Reviews-De_...    d693419  \n",
       "2  /Restaurant_Review-g188590-d696959-Reviews-La_...    d696959  \n",
       "3  /Restaurant_Review-g188590-d1239229-Reviews-Vi...   d1239229  \n",
       "4  /Restaurant_Review-g188590-d6864170-Reviews-Li...   d6864170  "
      ]
     },
     "execution_count": 13,
     "metadata": {},
     "output_type": "execute_result"
    }
   ],
   "source": [
    "df.head()"
   ]
  },
  {
   "cell_type": "code",
   "execution_count": 15,
   "id": "e398d9ca",
   "metadata": {},
   "outputs": [
    {
     "name": "stdout",
     "output_type": "stream",
     "text": [
      "['Amsterdam' 'Athens' 'Barcelona' 'Berlin' 'Bratislava' 'Brussels'\n",
      " 'Budapest' 'Copenhagen' 'Dublin' 'Edinburgh' 'Geneva' 'Hamburg'\n",
      " 'Helsinki' 'Krakow' 'Lisbon' 'Ljubljana' 'London' 'Luxembourg' 'Lyon'\n",
      " 'Madrid' 'Milan' 'Munich' 'Oporto' 'Oslo' 'Paris' 'Prague' 'Rome'\n",
      " 'Stockholm' 'Vienna' 'Warsaw' 'Zurich']\n"
     ]
    }
   ],
   "source": [
    "city_unique = df[\"City\"].unique()\n",
    "print(city_unique)"
   ]
  },
  {
   "cell_type": "code",
   "execution_count": 16,
   "id": "6bada239",
   "metadata": {},
   "outputs": [
    {
     "name": "stdout",
     "output_type": "stream",
     "text": [
      "[\"['French', 'Dutch', 'European']\"\n",
      " \"['Dutch', 'European', 'Vegetarian Friendly', 'Gluten Free Options']\"\n",
      " \"['Mediterranean', 'French', 'International', 'European', 'Vegetarian Friendly', 'Vegan Options']\"\n",
      " ... \"['Bar', 'Sushi', 'Delicatessen', 'Pub', 'Wine Bar']\"\n",
      " \"['Mediterranean', 'European', 'Central European', 'Bar', 'Vegetarian Friendly']\"\n",
      " \"['Chinese', 'Swiss', 'Mediterranean', 'European']\"]\n"
     ]
    }
   ],
   "source": [
    "cuisine_unique = df[\"Cuisine Style\"].unique()\n",
    "print(cuisine_unique)"
   ]
  },
  {
   "cell_type": "code",
   "execution_count": 17,
   "id": "ea22ddb7",
   "metadata": {},
   "outputs": [
    {
     "data": {
      "text/plain": [
       "(19158,)"
      ]
     },
     "execution_count": 17,
     "metadata": {},
     "output_type": "execute_result"
    }
   ],
   "source": [
    "cuisine_unique.shape"
   ]
  },
  {
   "cell_type": "code",
   "execution_count": 19,
   "id": "7ef65e1e",
   "metadata": {},
   "outputs": [
    {
     "name": "stdout",
     "output_type": "stream",
     "text": [
      "['$$ - $$$' '$$$$' '$']\n"
     ]
    }
   ],
   "source": [
    "price = df[\"Price Range\"].unique()\n",
    "print(price)"
   ]
  },
  {
   "cell_type": "markdown",
   "id": "466fbb96",
   "metadata": {},
   "source": [
    "## Importation des données"
   ]
  },
  {
   "cell_type": "code",
   "execution_count": 11,
   "id": "54790026",
   "metadata": {},
   "outputs": [
    {
     "data": {
      "text/plain": [
       "<pymongo.results.DeleteResult at 0x7fb25567a700>"
      ]
     },
     "execution_count": 11,
     "metadata": {},
     "output_type": "execute_result"
    }
   ],
   "source": [
    "collection.delete_many({})"
   ]
  },
  {
   "cell_type": "code",
   "execution_count": 12,
   "id": "456cbf45",
   "metadata": {},
   "outputs": [
    {
     "data": {
      "text/plain": [
       "<pymongo.results.InsertManyResult at 0x7fb243a98cc0>"
      ]
     },
     "execution_count": 12,
     "metadata": {},
     "output_type": "execute_result"
    }
   ],
   "source": [
    "collection.insert_many(df.to_dict(orient='records'))"
   ]
  },
  {
   "cell_type": "markdown",
   "id": "3bc4c868",
   "metadata": {},
   "source": [
    "## Traitment de données"
   ]
  },
  {
   "cell_type": "code",
   "execution_count": null,
   "id": "22d39e39",
   "metadata": {},
   "outputs": [],
   "source": []
  }
 ],
 "metadata": {
  "kernelspec": {
   "display_name": "Python 3 (ipykernel)",
   "language": "python",
   "name": "python3"
  },
  "language_info": {
   "codemirror_mode": {
    "name": "ipython",
    "version": 3
   },
   "file_extension": ".py",
   "mimetype": "text/x-python",
   "name": "python",
   "nbconvert_exporter": "python",
   "pygments_lexer": "ipython3",
   "version": "3.8.12"
  }
 },
 "nbformat": 4,
 "nbformat_minor": 5
}
