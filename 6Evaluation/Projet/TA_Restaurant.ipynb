{
 "cells": [
  {
   "cell_type": "code",
   "execution_count": 106,
   "metadata": {},
   "outputs": [],
   "source": [
    "import pandas as pd\n",
    "import pymongo\n",
    "import json\n",
    "from pandas import DataFrame"
   ]
  },
  {
   "cell_type": "code",
   "execution_count": 84,
   "metadata": {},
   "outputs": [],
   "source": [
    "client = pymongo.MongoClient(\"mongo:27017\")\n",
    "database = client['TripAdvisor']\n",
    "collection = database['TA_Restaurant']"
   ]
  },
  {
   "cell_type": "code",
   "execution_count": 85,
   "metadata": {},
   "outputs": [],
   "source": [
    "df = pd.read_csv('TA_restaurants_curated.csv')\n",
    "df = df.drop(['Unnamed: 0'], axis=1)\n",
    "df = df.dropna()\n",
    "df = df.drop_duplicates(subset='ID_TA', keep=\"first\")"
   ]
  },
  {
   "cell_type": "markdown",
   "metadata": {
    "slideshow": {
     "slide_type": "slide"
    }
   },
   "source": [
    "### Importer les données"
   ]
  },
  {
   "cell_type": "code",
   "execution_count": 86,
   "metadata": {},
   "outputs": [],
   "source": [
    "df= df.rename(columns={\"ID_TA\":\"_id\"})"
   ]
  },
  {
   "cell_type": "code",
   "execution_count": 87,
   "metadata": {},
   "outputs": [
    {
     "data": {
      "text/plain": [
       "<pymongo.results.InsertManyResult at 0x7f37bb59f840>"
      ]
     },
     "execution_count": 87,
     "metadata": {},
     "output_type": "execute_result"
    }
   ],
   "source": [
    "payload = json.loads(df.to_json(orient='records'))\n",
    "collection.delete_many({}) #pour nettoyer la collection\n",
    "collection.insert_many(payload)"
   ]
  },
  {
   "cell_type": "markdown",
   "metadata": {},
   "source": [
    "## Requêtes "
   ]
  },
  {
   "cell_type": "code",
   "execution_count": 88,
   "metadata": {},
   "outputs": [
    {
     "data": {
      "text/plain": [
       "31"
      ]
     },
     "execution_count": 88,
     "metadata": {},
     "output_type": "execute_result"
    }
   ],
   "source": [
    "# nombre de villes différentes\n",
    "len(collection.distinct('City'))"
   ]
  },
  {
   "cell_type": "code",
   "execution_count": 89,
   "metadata": {},
   "outputs": [
    {
     "data": {
      "text/plain": [
       "[{'_id': 'd794237',\n",
       "  'Name': 'Comme Chez Soi',\n",
       "  'City': 'Budapest',\n",
       "  'Cuisine Style': \"['Italian', 'Mediterranean', 'European', 'Hungarian', 'Vegetarian Friendly', 'Gluten Free Options']\",\n",
       "  'Ranking': 1.0,\n",
       "  'Rating': 5.0,\n",
       "  'Price Range': '$$ - $$$',\n",
       "  'Number of Reviews': 4437.0,\n",
       "  'Reviews': \"[['Great place!', 'Best best best'], ['01/07/2018', '01/05/2018']]\",\n",
       "  'URL_TA': '/Restaurant_Review-g274887-d794237-Reviews-Comme_Chez_Soi-Budapest_Central_Hungary.html'},\n",
       " {'_id': 'd8374547',\n",
       "  'Name': \"Wine O'Clock Shop Prague\",\n",
       "  'City': 'Prague',\n",
       "  'Cuisine Style': \"['Italian', 'Mediterranean', 'European', 'Wine Bar', 'International', 'Vegetarian Friendly', 'Gluten Free Options']\",\n",
       "  'Ranking': 1.0,\n",
       "  'Rating': 5.0,\n",
       "  'Price Range': '$$ - $$$',\n",
       "  'Number of Reviews': 967.0,\n",
       "  'Reviews': \"[['Best dinner in prague!', 'Lovely evening'], ['01/09/2018', '01/07/2018']]\",\n",
       "  'URL_TA': '/Restaurant_Review-g274707-d8374547-Reviews-Wine_O_Clock_Shop_Prague-Prague_Bohemia.html'},\n",
       " {'_id': 'd8003030',\n",
       "  'Name': 'Uma',\n",
       "  'City': 'Barcelona',\n",
       "  'Cuisine Style': \"['International', 'Mediterranean', 'Fusion', 'European', 'Spanish']\",\n",
       "  'Ranking': 1.0,\n",
       "  'Rating': 5.0,\n",
       "  'Price Range': '$$$$',\n",
       "  'Number of Reviews': 792.0,\n",
       "  'Reviews': \"[['Perfect atmosphere and location', 'Perfection'], ['01/08/2018', '01/05/2018']]\",\n",
       "  'URL_TA': '/Restaurant_Review-g187497-d8003030-Reviews-Uma-Barcelona_Catalonia.html'},\n",
       " {'_id': 'd6732421',\n",
       "  'Name': 'Le Rabassier',\n",
       "  'City': 'Brussels',\n",
       "  'Cuisine Style': \"['Belgian', 'European', 'French', 'Vegetarian Friendly', 'Gluten Free Options']\",\n",
       "  'Ranking': 1.0,\n",
       "  'Rating': 5.0,\n",
       "  'Price Range': '$$$$',\n",
       "  'Number of Reviews': 525.0,\n",
       "  'Reviews': \"[['Birthday treated that was worth the trip!', 'A night to remember!'], ['02/23/2018', '02/18/2018']]\",\n",
       "  'URL_TA': '/Restaurant_Review-g188644-d6732421-Reviews-Le_Rabassier-Brussels.html'},\n",
       " {'_id': 'd11752096',\n",
       "  'Name': 'Federica & Barbara of BB Kitchen',\n",
       "  'City': 'Rome',\n",
       "  'Cuisine Style': \"['Italian']\",\n",
       "  'Ranking': 1.0,\n",
       "  'Rating': 5.0,\n",
       "  'Price Range': '$$ - $$$',\n",
       "  'Number of Reviews': 409.0,\n",
       "  'Reviews': \"[['Unmissable experience', 'Magical evening'], ['01/03/2018', '01/02/2018']]\",\n",
       "  'URL_TA': '/Restaurant_Review-g187791-d11752096-Reviews-Federica_Barbara_of_BB_Kitchen-Rome_Lazio.html'},\n",
       " {'_id': 'd12214757',\n",
       "  'Name': 'Zahida at Westmarket',\n",
       "  'City': 'Copenhagen',\n",
       "  'Cuisine Style': \"['Indian', 'Middle Eastern', 'Pakistani', 'Vegetarian Friendly', 'Vegan Options', 'Gluten Free Options']\",\n",
       "  'Ranking': 1.0,\n",
       "  'Rating': 5.0,\n",
       "  'Price Range': '$$ - $$$',\n",
       "  'Number of Reviews': 408.0,\n",
       "  'Reviews': \"[['Pakistani food from the heart', 'DELICIOUS FUN'], ['12/30/2017', '12/30/2017']]\",\n",
       "  'URL_TA': '/Restaurant_Review-g189541-d12214757-Reviews-Zahida_at_Westmarket-Copenhagen_Zealand.html'},\n",
       " {'_id': 'd3929905',\n",
       "  'Name': 'Restaurant Hala',\n",
       "  'City': 'Hamburg',\n",
       "  'Cuisine Style': \"['Lebanese', 'Mediterranean', 'Middle Eastern', 'Vegetarian Friendly', 'Vegan Options', 'Halal', 'Gluten Free Options']\",\n",
       "  'Ranking': 1.0,\n",
       "  'Rating': 5.0,\n",
       "  'Price Range': '$$ - $$$',\n",
       "  'Number of Reviews': 373.0,\n",
       "  'Reviews': \"[['Beautiful restaurant, excellent food & ser...', 'Absolutely fantastic'], ['12/29/2017', '12/24/2017']]\",\n",
       "  'URL_TA': '/Restaurant_Review-g187331-d3929905-Reviews-Restaurant_Hala-Hamburg.html'},\n",
       " {'_id': 'd10428302',\n",
       "  'Name': 'Cebo',\n",
       "  'City': 'Madrid',\n",
       "  'Cuisine Style': \"['Mediterranean', 'European', 'Spanish', 'Contemporary', 'Vegetarian Friendly', 'Vegan Options', 'Gluten Free Options']\",\n",
       "  'Ranking': 1.0,\n",
       "  'Rating': 5.0,\n",
       "  'Price Range': '$$$$',\n",
       "  'Number of Reviews': 352.0,\n",
       "  'Reviews': \"[['Absolutely divine tastes and flavours', 'Loved it'], ['01/09/2018', '01/07/2018']]\",\n",
       "  'URL_TA': '/Restaurant_Review-g187514-d10428302-Reviews-Cebo-Madrid.html'},\n",
       " {'_id': 'd12337867',\n",
       "  'Name': 'Aromatic',\n",
       "  'City': 'Lyon',\n",
       "  'Cuisine Style': \"['French', 'European', 'Vegetarian Friendly', 'Vegan Options', 'Gluten Free Options']\",\n",
       "  'Ranking': 1.0,\n",
       "  'Rating': 5.0,\n",
       "  'Price Range': '$$ - $$$',\n",
       "  'Number of Reviews': 347.0,\n",
       "  'Reviews': \"[['Recommended', 'Taste and welcoming'], ['08/30/2017', '08/26/2017']]\",\n",
       "  'URL_TA': '/Restaurant_Review-g187265-d12337867-Reviews-Aromatic-Lyon_Rhone_Auvergne_Rhone_Alpes.html'},\n",
       " {'_id': 'd12966802',\n",
       "  'Name': 'MUU Steakhouse',\n",
       "  'City': 'Oporto',\n",
       "  'Cuisine Style': \"['Steakhouse', 'European', 'Portuguese', 'Vegetarian Friendly', 'Vegan Options', 'Gluten Free Options']\",\n",
       "  'Ranking': 1.0,\n",
       "  'Rating': 5.0,\n",
       "  'Price Range': '$$$$',\n",
       "  'Number of Reviews': 331.0,\n",
       "  'Reviews': \"[['Wow', 'Amazing food and service'], ['02/17/2018', '02/17/2018']]\",\n",
       "  'URL_TA': '/Restaurant_Review-g189180-d12966802-Reviews-MUU_Steakhouse-Porto_Porto_District_Northern_Portugal.html'}]"
      ]
     },
     "execution_count": 89,
     "metadata": {},
     "output_type": "execute_result"
    }
   ],
   "source": [
    "# Les 10 meilleurs restaurants\n",
    "top10 = collection.find().sort([(\"Ranking\",1),(\"Rating\",-1),(\"Number of Reviews\",-1)]).limit(10)\n",
    "list(top10)"
   ]
  },
  {
   "cell_type": "code",
   "execution_count": 116,
   "metadata": {},
   "outputs": [
    {
     "data": {
      "text/plain": [
       "[{'_id': 'Dublin', 'count_price': 1460},\n",
       " {'_id': 'Helsinki', 'count_price': 754},\n",
       " {'_id': 'Lyon', 'count_price': 1376},\n",
       " {'_id': 'Budapest', 'count_price': 1640},\n",
       " {'_id': 'Berlin', 'count_price': 3438},\n",
       " {'_id': 'Milan', 'count_price': 3737},\n",
       " {'_id': 'Oporto', 'count_price': 1013},\n",
       " {'_id': 'Ljubljana', 'count_price': 317},\n",
       " {'_id': 'Munich', 'count_price': 1679},\n",
       " {'_id': 'Warsaw', 'count_price': 1232},\n",
       " {'_id': 'Copenhagen', 'count_price': 1273},\n",
       " {'_id': 'Stockholm', 'count_price': 1364},\n",
       " {'_id': 'Paris', 'count_price': 9281},\n",
       " {'_id': 'Prague', 'count_price': 2527},\n",
       " {'_id': 'Madrid', 'count_price': 4599},\n",
       " {'_id': 'Geneva', 'count_price': 954},\n",
       " {'_id': 'Hamburg', 'count_price': 1197},\n",
       " {'_id': 'Oslo', 'count_price': 749},\n",
       " {'_id': 'Athens', 'count_price': 1166},\n",
       " {'_id': 'Luxembourg', 'count_price': 437},\n",
       " {'_id': 'London', 'count_price': 11622},\n",
       " {'_id': 'Rome', 'count_price': 4654},\n",
       " {'_id': 'Edinburgh', 'count_price': 1404},\n",
       " {'_id': 'Amsterdam', 'count_price': 2426},\n",
       " {'_id': 'Barcelona', 'count_price': 5079},\n",
       " {'_id': 'Krakow', 'count_price': 826},\n",
       " {'_id': 'Lisbon', 'count_price': 2386},\n",
       " {'_id': 'Vienna', 'count_price': 2025},\n",
       " {'_id': 'Zurich', 'count_price': 1080},\n",
       " {'_id': 'Bratislava', 'count_price': 426},\n",
       " {'_id': 'Brussels', 'count_price': 2014}]"
      ]
     },
     "execution_count": 116,
     "metadata": {},
     "output_type": "execute_result"
    }
   ],
   "source": [
    "nb_price = collection.aggregate([\n",
    "    {\"$group\" : {\n",
    "        \"_id\" : \"$City\",\n",
    "        \"count_price\" : {\"$sum\": 1},\n",
    "    }}\n",
    "])\n",
    "list_cur= list(nb_price)\n",
    "list_cur"
   ]
  },
  {
   "cell_type": "code",
   "execution_count": 109,
   "metadata": {},
   "outputs": [],
   "source": [
    "df = DataFrame(list_cur)"
   ]
  },
  {
   "cell_type": "code",
   "execution_count": 110,
   "metadata": {},
   "outputs": [],
   "source": [
    "test_csv_data = df.to_csv('test.csv', index = True)"
   ]
  },
  {
   "cell_type": "code",
   "execution_count": null,
   "metadata": {},
   "outputs": [],
   "source": []
  }
 ],
 "metadata": {
  "kernelspec": {
   "display_name": "Python 3 (ipykernel)",
   "language": "python",
   "name": "python3"
  },
  "language_info": {
   "codemirror_mode": {
    "name": "ipython",
    "version": 3
   },
   "file_extension": ".py",
   "mimetype": "text/x-python",
   "name": "python",
   "nbconvert_exporter": "python",
   "pygments_lexer": "ipython3",
   "version": "3.8.12"
  }
 },
 "nbformat": 4,
 "nbformat_minor": 2
}
